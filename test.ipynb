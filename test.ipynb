{
 "cells": [
  {
   "attachments": {},
   "cell_type": "markdown",
   "metadata": {},
   "source": [
    "Testovací sešit na poznámky a prohlížení dat"
   ]
  },
  {
   "cell_type": "code",
   "execution_count": 23,
   "metadata": {},
   "outputs": [],
   "source": [
    "import pandas as pd\n",
    "\n",
    "zkratka = 'RDBS'\n",
    "\n",
    "df = pd.read_csv(f'https://ws.ujep.cz/ws/services/rest2/predmety/getPredmetInfo?zkratka={zkratka}&lang=en&outputFormat=CSV&katedra=KI&rok=2022', sep=';', encoding='cp1250')"
   ]
  },
  {
   "cell_type": "code",
   "execution_count": 24,
   "metadata": {},
   "outputs": [
    {
     "name": "stdout",
     "output_type": "stream",
     "text": [
      "katedra\n",
      "zkratka\n",
      "rok\n",
      "nazev\n",
      "nazevDlouhy\n",
      "vyukaZS\n",
      "vyukaLS\n",
      "kreditu\n",
      "viceZapis\n",
      "minObsazeni\n",
      "garanti\n",
      "garantiSPodily\n",
      "garantiUcitIdno\n",
      "prednasejici\n",
      "prednasejiciSPodily\n",
      "prednasejiciUcitIdno\n",
      "cvicici\n",
      "cviciciSPodily\n",
      "cviciciUcitIdno\n",
      "seminarici\n",
      "seminariciSPodily\n",
      "seminariciUcitIdno\n",
      "schvalujiciUznani\n",
      "schvalujiciUznaniUcitIdno\n",
      "examinatori\n",
      "examinatoriUcitIdno\n",
      "podminujiciPredmety\n",
      "vylucujiciPredmety\n",
      "podminujePredmety\n",
      "literatura\n",
      "nahrazPredmety\n",
      "metodyVyucovaci\n",
      "metodyHodnotici\n",
      "akreditovan\n",
      "jednotekPrednasek\n",
      "jednotkaPrednasky\n",
      "jednotekCviceni\n",
      "jednotkaCviceni\n",
      "jednotekSeminare\n",
      "jednotkaSeminare\n",
      "anotace\n",
      "typZkousky\n",
      "maZapocetPredZk\n",
      "formaZkousky\n",
      "pozadavky\n",
      "prehledLatky\n",
      "predpoklady\n",
      "ziskaneZpusobilosti\n",
      "casovaNarocnost\n",
      "predmetUrl\n",
      "vyucovaciJazyky\n",
      "poznamka\n",
      "ectsZobrazit\n",
      "ectsAkreditace\n",
      "ectsNabizetUPrijezdu\n",
      "poznamkaVerejna\n",
      "skupinaAkreditace\n",
      "skupinaAkreditaceKey\n",
      "zarazenDoPrezencnihoStudia\n",
      "zarazenDoKombinovanehoStudia\n",
      "studijniOpory\n",
      "praxePocetDnu\n",
      "urovenNastavena\n",
      "urovenVypoctena\n",
      "automatickyUznavatZppZk\n",
      "hodZaSemKombForma\n"
     ]
    }
   ],
   "source": [
    "for i in df.columns:\n",
    "    print(i)"
   ]
  },
  {
   "cell_type": "code",
   "execution_count": 25,
   "metadata": {},
   "outputs": [
    {
     "data": {
      "text/plain": [
       "'1. Vnořené poddotazy SELECT a jejich (efektivnější) alternativy (analytické funkce, DISTINCT ON)\\n2. Indexové soubory a analýza dotazů (efektivní implementace operace JOIN)\\n3. Fulltextové vyhledávání\\n4. Rekurzivní CTE a representace hierarchií\\n5. Pohledy a procedurální rozšíření SQL\\n6. Kurzory\\n7. Triggery\\n8. DCL a správa uživatelů\\n9. ? 10. Vysokoúrovňový přístup na straně klienta (ORM)\\n11. ? 13. Administrace databázových systémů (optimalizace výkonu, archivace)'"
      ]
     },
     "execution_count": 25,
     "metadata": {},
     "output_type": "execute_result"
    }
   ],
   "source": [
    "df['prehledLatky'][0]"
   ]
  },
  {
   "cell_type": "code",
   "execution_count": null,
   "metadata": {},
   "outputs": [],
   "source": [
    "# stduijní programy\n",
    "# https://ws.ujep.cz/ws/services/rest2/programy/getStudijniProgramy?kod=%25&pouzePlatne=true&jazyk=CZ&fakulta=PRF&typ=7&forma=P&outputFormat=CSVX&rok=2023"
   ]
  },
  {
   "cell_type": "code",
   "execution_count": 22,
   "metadata": {},
   "outputs": [
    {
     "data": {
      "text/html": [
       "<div>\n",
       "<style scoped>\n",
       "    .dataframe tbody tr th:only-of-type {\n",
       "        vertical-align: middle;\n",
       "    }\n",
       "\n",
       "    .dataframe tbody tr th {\n",
       "        vertical-align: top;\n",
       "    }\n",
       "\n",
       "    .dataframe thead th {\n",
       "        text-align: right;\n",
       "    }\n",
       "</style>\n",
       "<table border=\"1\" class=\"dataframe\">\n",
       "  <thead>\n",
       "    <tr style=\"text-align: right;\">\n",
       "      <th></th>\n",
       "      <th>name</th>\n",
       "      <th>department</th>\n",
       "      <th>ECTS</th>\n",
       "      <th>code</th>\n",
       "      <th>teacher</th>\n",
       "      <th>term</th>\n",
       "      <th>language_of_instruction</th>\n",
       "      <th>lecture</th>\n",
       "      <th>exercises</th>\n",
       "      <th>completion</th>\n",
       "      <th>anotation</th>\n",
       "      <th>summary</th>\n",
       "    </tr>\n",
       "  </thead>\n",
       "  <tbody>\n",
       "    <tr>\n",
       "      <th>0</th>\n",
       "      <td>NaN</td>\n",
       "      <td>NaN</td>\n",
       "      <td>NaN</td>\n",
       "      <td>NaN</td>\n",
       "      <td>NaN</td>\n",
       "      <td>NaN</td>\n",
       "      <td>NaN</td>\n",
       "      <td>NaN</td>\n",
       "      <td>NaN</td>\n",
       "      <td>NaN</td>\n",
       "      <td>NaN</td>\n",
       "      <td>NaN</td>\n",
       "    </tr>\n",
       "  </tbody>\n",
       "</table>\n",
       "</div>"
      ],
      "text/plain": [
       "   name  department  ECTS  code  teacher  term  language_of_instruction  \\\n",
       "0   NaN         NaN   NaN   NaN      NaN   NaN                      NaN   \n",
       "\n",
       "   lecture  exercises  completion  anotation  summary  \n",
       "0      NaN        NaN         NaN        NaN      NaN  "
      ]
     },
     "execution_count": 22,
     "metadata": {},
     "output_type": "execute_result"
    }
   ],
   "source": [
    "katedry = {\n",
    "    'KI' : ['EAPR1','EAPR2','ECIS','EDAV', 'ECGR', 'RDBS',],\n",
    "    'KMA': ['E101', 'E103', 'E104', 'E105'],\n",
    "    'KGEO': [],\n",
    "    'KBI': [],\n",
    "    'KCH': [],\n",
    "    'KFY': ['E511']\n",
    "}\n",
    "\n",
    "katedra = 'KI'\n",
    "zkratky = katedry.get(katedra)\n",
    "dfs = []\n",
    "for i in zkratky:\n",
    "    df = pd.read_csv(f'https://ws.ujep.cz/ws/services/rest2/predmety/getPredmetInfo?zkratka={i}&lang=en&outputFormat=CSV&katedra={katedra}&rok=2022', \n",
    "        sep=';', \n",
    "        encoding='cp1250')\n",
    "    new_df = pd.DataFrame(df[['nazev','katedra', 'kreditu', 'zkratka', 'prednasejici', 'vyukaZS', 'vyucovaciJazyky', 'jednotekPrednasek', 'jednotekCviceni', 'typZkousky', 'anotace', 'prehledLatky']],\n",
    "                          columns=['name', 'department', 'ECTS', 'code', 'teacher', 'term', 'language_of_instruction', 'lecture', 'exercises', 'completion', 'anotation', 'summary'])\n",
    "    dfs.append(new_df)\n",
    "\n",
    "dfs[0].head()"
   ]
  }
 ],
 "metadata": {
  "kernelspec": {
   "display_name": "venv",
   "language": "python",
   "name": "python3"
  },
  "language_info": {
   "codemirror_mode": {
    "name": "ipython",
    "version": 3
   },
   "file_extension": ".py",
   "mimetype": "text/x-python",
   "name": "python",
   "nbconvert_exporter": "python",
   "pygments_lexer": "ipython3",
   "version": "3.9.13"
  },
  "orig_nbformat": 4,
  "vscode": {
   "interpreter": {
    "hash": "552582155ddae33922b59c7b028187f25f4f1bcb6e13294168fb23c28ecc001a"
   }
  }
 },
 "nbformat": 4,
 "nbformat_minor": 2
}
