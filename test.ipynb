{
 "cells": [
  {
   "cell_type": "code",
   "execution_count": 3,
   "metadata": {},
   "outputs": [],
   "source": [
    "import pandas as pd\n",
    "\n",
    "zkratka = 'EAPR1'\n",
    "\n",
    "df = pd.read_csv(f'https://ws.ujep.cz/ws/services/rest2/predmety/getPredmetInfo?zkratka={zkratka}&lang=en&outputFormat=CSV&katedra=KI&rok=2022', sep=';', encoding='cp1250')"
   ]
  },
  {
   "cell_type": "code",
   "execution_count": 10,
   "metadata": {},
   "outputs": [
    {
     "name": "stdout",
     "output_type": "stream",
     "text": [
      "katedra\n",
      "zkratka\n",
      "rok\n",
      "nazev\n",
      "nazevDlouhy\n",
      "vyukaZS\n",
      "vyukaLS\n",
      "kreditu\n",
      "viceZapis\n",
      "minObsazeni\n",
      "garanti\n",
      "garantiSPodily\n",
      "garantiUcitIdno\n",
      "prednasejici\n",
      "prednasejiciSPodily\n",
      "prednasejiciUcitIdno\n",
      "cvicici\n",
      "cviciciSPodily\n",
      "cviciciUcitIdno\n",
      "seminarici\n",
      "seminariciSPodily\n",
      "seminariciUcitIdno\n",
      "schvalujiciUznani\n",
      "schvalujiciUznaniUcitIdno\n",
      "examinatori\n",
      "examinatoriUcitIdno\n",
      "podminujiciPredmety\n",
      "vylucujiciPredmety\n",
      "podminujePredmety\n",
      "literatura\n",
      "nahrazPredmety\n",
      "metodyVyucovaci\n",
      "metodyHodnotici\n",
      "akreditovan\n",
      "jednotekPrednasek\n",
      "jednotkaPrednasky\n",
      "jednotekCviceni\n",
      "jednotkaCviceni\n",
      "jednotekSeminare\n",
      "jednotkaSeminare\n",
      "anotace\n",
      "typZkousky\n",
      "maZapocetPredZk\n",
      "formaZkousky\n",
      "pozadavky\n",
      "prehledLatky\n",
      "predpoklady\n",
      "ziskaneZpusobilosti\n",
      "casovaNarocnost\n",
      "predmetUrl\n",
      "vyucovaciJazyky\n",
      "poznamka\n",
      "ectsZobrazit\n",
      "ectsAkreditace\n",
      "ectsNabizetUPrijezdu\n",
      "poznamkaVerejna\n",
      "skupinaAkreditace\n",
      "skupinaAkreditaceKey\n",
      "zarazenDoPrezencnihoStudia\n",
      "zarazenDoKombinovanehoStudia\n",
      "studijniOpory\n",
      "praxePocetDnu\n",
      "urovenNastavena\n",
      "urovenVypoctena\n",
      "automatickyUznavatZppZk\n",
      "hodZaSemKombForma\n"
     ]
    }
   ],
   "source": [
    "for i in df.columns:\n",
    "    print(i)"
   ]
  },
  {
   "cell_type": "code",
   "execution_count": 11,
   "metadata": {},
   "outputs": [
    {
     "name": "stdout",
     "output_type": "stream",
     "text": [
      "The introductory course of algorithms and programming (first part) is focused on the basic principles of procedural and object-oriented paradigm including   representation of basic collections (strings, lists, dictionaries) and the elementary algorithms above them. The course is intended for beginners (no prior knowledge of programming is required). Lectures and exercises will be in Python programming language.\n"
     ]
    }
   ],
   "source": [
    "print(df['anotace'][0])"
   ]
  }
 ],
 "metadata": {
  "kernelspec": {
   "display_name": "venv",
   "language": "python",
   "name": "python3"
  },
  "language_info": {
   "codemirror_mode": {
    "name": "ipython",
    "version": 3
   },
   "file_extension": ".py",
   "mimetype": "text/x-python",
   "name": "python",
   "nbconvert_exporter": "python",
   "pygments_lexer": "ipython3",
   "version": "3.9.13 (tags/v3.9.13:6de2ca5, May 17 2022, 16:36:42) [MSC v.1929 64 bit (AMD64)]"
  },
  "orig_nbformat": 4,
  "vscode": {
   "interpreter": {
    "hash": "552582155ddae33922b59c7b028187f25f4f1bcb6e13294168fb23c28ecc001a"
   }
  }
 },
 "nbformat": 4,
 "nbformat_minor": 2
}
