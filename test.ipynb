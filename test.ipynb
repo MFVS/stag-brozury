{
 "cells": [
  {
   "cell_type": "code",
   "execution_count": 23,
   "metadata": {},
   "outputs": [],
   "source": [
    "import pandas as pd\n",
    "\n",
    "zkratka = 'E103'\n",
    "\n",
    "df = pd.read_csv(f'https://ws.ujep.cz/ws/services/rest2/predmety/getPredmetInfo?zkratka={zkratka}&lang=en&outputFormat=CSV&katedra=KCH&rok=2022', sep=';', encoding='cp1250')"
   ]
  },
  {
   "cell_type": "code",
   "execution_count": 3,
   "metadata": {},
   "outputs": [
    {
     "name": "stdout",
     "output_type": "stream",
     "text": [
      "katedra\n",
      "zkratka\n",
      "rok\n",
      "nazev\n",
      "nazevDlouhy\n",
      "vyukaZS\n",
      "vyukaLS\n",
      "kreditu\n",
      "viceZapis\n",
      "minObsazeni\n",
      "garanti\n",
      "garantiSPodily\n",
      "garantiUcitIdno\n",
      "prednasejici\n",
      "prednasejiciSPodily\n",
      "prednasejiciUcitIdno\n",
      "cvicici\n",
      "cviciciSPodily\n",
      "cviciciUcitIdno\n",
      "seminarici\n",
      "seminariciSPodily\n",
      "seminariciUcitIdno\n",
      "schvalujiciUznani\n",
      "schvalujiciUznaniUcitIdno\n",
      "examinatori\n",
      "examinatoriUcitIdno\n",
      "podminujiciPredmety\n",
      "vylucujiciPredmety\n",
      "podminujePredmety\n",
      "literatura\n",
      "nahrazPredmety\n",
      "metodyVyucovaci\n",
      "metodyHodnotici\n",
      "akreditovan\n",
      "jednotekPrednasek\n",
      "jednotkaPrednasky\n",
      "jednotekCviceni\n",
      "jednotkaCviceni\n",
      "jednotekSeminare\n",
      "jednotkaSeminare\n",
      "anotace\n",
      "typZkousky\n",
      "maZapocetPredZk\n",
      "formaZkousky\n",
      "pozadavky\n",
      "prehledLatky\n",
      "predpoklady\n",
      "ziskaneZpusobilosti\n",
      "casovaNarocnost\n",
      "predmetUrl\n",
      "vyucovaciJazyky\n",
      "poznamka\n",
      "ectsZobrazit\n",
      "ectsAkreditace\n",
      "ectsNabizetUPrijezdu\n",
      "poznamkaVerejna\n",
      "skupinaAkreditace\n",
      "skupinaAkreditaceKey\n",
      "zarazenDoPrezencnihoStudia\n",
      "zarazenDoKombinovanehoStudia\n",
      "studijniOpory\n",
      "praxePocetDnu\n",
      "urovenNastavena\n",
      "urovenVypoctena\n",
      "automatickyUznavatZppZk\n",
      "hodZaSemKombForma\n"
     ]
    }
   ],
   "source": [
    "for i in df.columns:\n",
    "    print(i)"
   ]
  },
  {
   "cell_type": "code",
   "execution_count": 24,
   "metadata": {},
   "outputs": [
    {
     "data": {
      "text/plain": [
       "'No preceding course is required. \\nStudents are expected to understand lectures and recommended textbooks and should be able to speak and write in English.  The high school knowledge of mathematics, physics and chemistry is  expected. \\n'"
      ]
     },
     "execution_count": 24,
     "metadata": {},
     "output_type": "execute_result"
    }
   ],
   "source": [
    "df['predpoklady'][0]"
   ]
  },
  {
   "cell_type": "code",
   "execution_count": 9,
   "metadata": {},
   "outputs": [
    {
     "name": "stdout",
     "output_type": "stream",
     "text": [
      "OK IM HERE\n"
     ]
    }
   ],
   "source": [
    "text = \"OK I'M HERE\"\n",
    "print(text.translate( {39:None}))"
   ]
  }
 ],
 "metadata": {
  "kernelspec": {
   "display_name": "venv",
   "language": "python",
   "name": "python3"
  },
  "language_info": {
   "codemirror_mode": {
    "name": "ipython",
    "version": 3
   },
   "file_extension": ".py",
   "mimetype": "text/x-python",
   "name": "python",
   "nbconvert_exporter": "python",
   "pygments_lexer": "ipython3",
   "version": "3.10.4"
  },
  "orig_nbformat": 4,
  "vscode": {
   "interpreter": {
    "hash": "552582155ddae33922b59c7b028187f25f4f1bcb6e13294168fb23c28ecc001a"
   }
  }
 },
 "nbformat": 4,
 "nbformat_minor": 2
}
